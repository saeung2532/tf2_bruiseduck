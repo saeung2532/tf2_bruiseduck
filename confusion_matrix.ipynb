{
 "cells": [
  {
   "cell_type": "code",
   "execution_count": 1,
   "metadata": {},
   "outputs": [],
   "source": [
    "#importing packages\n",
    "import pandas as pd\n",
    "import numpy as np\n",
    "import seaborn as sns\n",
    "import matplotlib.pyplot as plt"
   ]
  },
  {
   "cell_type": "code",
   "execution_count": 3,
   "metadata": {},
   "outputs": [],
   "source": [
    "#Importing of dataset to dataframe. \n",
    "df = pd.read_csv(\"../datasets/excel_files/Iris.csv\")"
   ]
  },
  {
   "cell_type": "code",
   "execution_count": 8,
   "metadata": {},
   "outputs": [
    {
     "data": {
      "text/plain": [
       "Id                 int64\n",
       "SepalLengthCm    float64\n",
       "SepalWidthCm     float64\n",
       "PetalLengthCm    float64\n",
       "PetalWidthCm     float64\n",
       "Species           object\n",
       "dtype: object"
      ]
     },
     "execution_count": 8,
     "metadata": {},
     "output_type": "execute_result"
    }
   ],
   "source": [
    "#To see first 5 rows of the dataset\n",
    "df.head()\n",
    "#To know the data types of the variables.\n",
    "df.dtypes"
   ]
  },
  {
   "cell_type": "code",
   "execution_count": 9,
   "metadata": {},
   "outputs": [
    {
     "data": {
      "text/plain": [
       "Iris-versicolor    50\n",
       "Iris-virginica     50\n",
       "Iris-setosa        50\n",
       "Name: Species, dtype: int64"
      ]
     },
     "execution_count": 9,
     "metadata": {},
     "output_type": "execute_result"
    }
   ],
   "source": [
    "#Speceis is the output class,to know the count of each class we use value_counts()\n",
    "df['Species'].value_counts()"
   ]
  },
  {
   "cell_type": "code",
   "execution_count": 10,
   "metadata": {},
   "outputs": [
    {
     "name": "stdout",
     "output_type": "stream",
     "text": [
      "(150, 5)\n",
      "(150,)\n"
     ]
    }
   ],
   "source": [
    "#Separating independant variable and dependent variable(\"Species\")\n",
    "X = df.drop(['Species'], axis=1)\n",
    "y = df['Species']\n",
    "# print(X.head())\n",
    "print(X.shape)\n",
    "# print(y.head())\n",
    "print(y.shape)"
   ]
  },
  {
   "cell_type": "code",
   "execution_count": 11,
   "metadata": {},
   "outputs": [],
   "source": [
    "# Splitting the dataset to Train and test\n",
    "from sklearn.model_selection import train_test_split\n",
    "X_train, X_test, y_train, y_test = train_test_split(X, y, test_size=0.3, random_state=0)"
   ]
  },
  {
   "cell_type": "code",
   "execution_count": 12,
   "metadata": {},
   "outputs": [
    {
     "name": "stdout",
     "output_type": "stream",
     "text": [
      "(105, 5)\n",
      "(105,)\n",
      "(45, 5)\n",
      "(45,)\n"
     ]
    }
   ],
   "source": [
    "#to know the shape of the train and test dataset.\n",
    "print(X_train.shape)\n",
    "print(y_train.shape)\n",
    "print(X_test.shape)\n",
    "print(y_test.shape)"
   ]
  },
  {
   "cell_type": "code",
   "execution_count": 2,
   "metadata": {},
   "outputs": [],
   "source": [
    "#We use Support Vector classifier as a classifier\n",
    "from sklearn.svm import SVC\n",
    "from sklearn.metrics import confusion_matrix"
   ]
  },
  {
   "cell_type": "code",
   "execution_count": null,
   "metadata": {},
   "outputs": [],
   "source": [
    "#training the classifier using X_Train and y_train \n",
    "clf = SVC(kernel = 'linear').fit(X_train,y_train)\n",
    "clf.predict(X_train)"
   ]
  },
  {
   "cell_type": "code",
   "execution_count": 15,
   "metadata": {},
   "outputs": [],
   "source": [
    "#Testing the model using X_test and storing the output in y_pred\n",
    "y_pred = clf.predict(X_test)"
   ]
  },
  {
   "cell_type": "code",
   "execution_count": null,
   "metadata": {},
   "outputs": [],
   "source": [
    "y_test.shape\n",
    "print(np.array(y_test))"
   ]
  },
  {
   "cell_type": "code",
   "execution_count": null,
   "metadata": {},
   "outputs": [],
   "source": [
    "y_pred.shape\n",
    "print(type(y_pred))\n",
    "print(np.array(y_pred))"
   ]
  },
  {
   "cell_type": "code",
   "execution_count": 21,
   "metadata": {},
   "outputs": [
    {
     "data": {
      "text/plain": [
       "array([[16,  0,  0],\n",
       "       [ 0, 18,  0],\n",
       "       [ 0,  0, 11]], dtype=int64)"
      ]
     },
     "execution_count": 21,
     "metadata": {},
     "output_type": "execute_result"
    }
   ],
   "source": [
    "# Creating  a confusion matrix,which compares the y_test and y_pred\n",
    "cm = confusion_matrix(y_test, y_pred)\n",
    "cm"
   ]
  },
  {
   "cell_type": "code",
   "execution_count": 36,
   "metadata": {},
   "outputs": [],
   "source": [
    "# Creating a dataframe for a array-formatted Confusion matrix,so it will be easy for plotting.\n",
    "cm_df = pd.DataFrame(cm,\n",
    "                     index = ['SETOSA','VERSICOLR','VIRGINICA'], \n",
    "                     columns = ['SETOSA','VERSICOLR','VIRGINICA'])"
   ]
  },
  {
   "cell_type": "code",
   "execution_count": 34,
   "metadata": {},
   "outputs": [
    {
     "data": {
      "image/png": "[encoded data removed]",
      "text/plain": [
       "<Figure size 360x288 with 2 Axes>"
      ]
     },
     "metadata": {
      "needs_background": "light"
     },
     "output_type": "display_data"
    }
   ],
   "source": [
    "#Plotting the confusion matrix\n",
    "plt.figure(figsize=(5,4))\n",
    "sns.heatmap(cm_df, annot=True)\n",
    "plt.title('Confusion Matrix')\n",
    "plt.ylabel('Actal Values')\n",
    "plt.xlabel('Predicted Values')\n",
    "plt.show()"
   ]
  },
  {
   "cell_type": "code",
   "execution_count": 1,
   "metadata": {},
   "outputs": [],
   "source": [
    "#importing packages\n",
    "import pandas as pd\n",
    "import numpy as np\n",
    "import seaborn as sns\n",
    "import matplotlib.pyplot as plt\n",
    "from sklearn.metrics import confusion_matrix\n",
    "from sklearn.metrics import classification_report"
   ]
  },
  {
   "cell_type": "code",
   "execution_count": 2,
   "metadata": {},
   "outputs": [],
   "source": [
    "#Importing of dataset to dataframe. \n",
    "# df_actual = pd.read_excel(\"./bruiseduck_actual.xlsx\")\n",
    "# df_predict = pd.read_excel(\"./bruiseduck_predict.xlsx\")\n",
    "# df_actual = pd.read_excel(\"./bruiseduck_actual.xlsx\", header=None)\n",
    "\n",
    "\n",
    "df_actual = pd.read_excel(\"./bruiseduck_actual_v2.xlsx\")\n",
    "df_predict = pd.read_excel(\"./bruiseduck_predict_v2.xlsx\")"
   ]
  },
  {
   "cell_type": "code",
   "execution_count": 3,
   "metadata": {},
   "outputs": [
    {
     "name": "stdout",
     "output_type": "stream",
     "text": [
      "(100, 6)\n"
     ]
    },
    {
     "data": {
      "text/html": [
       "<div>\n",
       "<style scoped>\n",
       "    .dataframe tbody tr th:only-of-type {\n",
       "        vertical-align: middle;\n",
       "    }\n",
       "\n",
       "    .dataframe tbody tr th {\n",
       "        vertical-align: top;\n",
       "    }\n",
       "\n",
       "    .dataframe thead th {\n",
       "        text-align: right;\n",
       "    }\n",
       "</style>\n",
       "<table border=\"1\" class=\"dataframe\">\n",
       "  <thead>\n",
       "    <tr style=\"text-align: right;\">\n",
       "      <th></th>\n",
       "      <th>No</th>\n",
       "      <th>Bruised broken wing (FP09)</th>\n",
       "      <th>Bruised broken leg (FP10)</th>\n",
       "      <th>Bruised back (FP16)</th>\n",
       "      <th>Bruised neck (FP22)</th>\n",
       "      <th>Bruised elbow (FP32)</th>\n",
       "    </tr>\n",
       "  </thead>\n",
       "  <tbody>\n",
       "    <tr>\n",
       "      <th>0</th>\n",
       "      <td>1</td>\n",
       "      <td>NaN</td>\n",
       "      <td>NaN</td>\n",
       "      <td>1</td>\n",
       "      <td>NaN</td>\n",
       "      <td>NaN</td>\n",
       "    </tr>\n",
       "    <tr>\n",
       "      <th>1</th>\n",
       "      <td>2</td>\n",
       "      <td>NaN</td>\n",
       "      <td>NaN</td>\n",
       "      <td>1</td>\n",
       "      <td>NaN</td>\n",
       "      <td>NaN</td>\n",
       "    </tr>\n",
       "    <tr>\n",
       "      <th>2</th>\n",
       "      <td>3</td>\n",
       "      <td>NaN</td>\n",
       "      <td>1.0</td>\n",
       "      <td>NaN</td>\n",
       "      <td>NaN</td>\n",
       "      <td>NaN</td>\n",
       "    </tr>\n",
       "    <tr>\n",
       "      <th>3</th>\n",
       "      <td>4</td>\n",
       "      <td>NaN</td>\n",
       "      <td>NaN</td>\n",
       "      <td>NaN</td>\n",
       "      <td>NaN</td>\n",
       "      <td>NaN</td>\n",
       "    </tr>\n",
       "    <tr>\n",
       "      <th>4</th>\n",
       "      <td>5</td>\n",
       "      <td>NaN</td>\n",
       "      <td>1.0</td>\n",
       "      <td>NaN</td>\n",
       "      <td>NaN</td>\n",
       "      <td>NaN</td>\n",
       "    </tr>\n",
       "  </tbody>\n",
       "</table>\n",
       "</div>"
      ],
      "text/plain": [
       "   No Bruised broken wing (FP09)  Bruised broken leg (FP10)  \\\n",
       "0   1                        NaN                        NaN   \n",
       "1   2                        NaN                        NaN   \n",
       "2   3                        NaN                        1.0   \n",
       "3   4                        NaN                        NaN   \n",
       "4   5                        NaN                        1.0   \n",
       "\n",
       "  Bruised back (FP16)  Bruised neck (FP22)  Bruised elbow (FP32)  \n",
       "0                   1                  NaN                   NaN  \n",
       "1                   1                  NaN                   NaN  \n",
       "2                 NaN                  NaN                   NaN  \n",
       "3                 NaN                  NaN                   NaN  \n",
       "4                 NaN                  NaN                   NaN  "
      ]
     },
     "execution_count": 3,
     "metadata": {},
     "output_type": "execute_result"
    }
   ],
   "source": [
    "print(df_actual.shape)\n",
    "df_actual.head(5)"
   ]
  },
  {
   "cell_type": "code",
   "execution_count": 4,
   "metadata": {},
   "outputs": [
    {
     "name": "stdout",
     "output_type": "stream",
     "text": [
      "(100, 6)\n"
     ]
    },
    {
     "data": {
      "text/html": [
       "<div>\n",
       "<style scoped>\n",
       "    .dataframe tbody tr th:only-of-type {\n",
       "        vertical-align: middle;\n",
       "    }\n",
       "\n",
       "    .dataframe tbody tr th {\n",
       "        vertical-align: top;\n",
       "    }\n",
       "\n",
       "    .dataframe thead th {\n",
       "        text-align: right;\n",
       "    }\n",
       "</style>\n",
       "<table border=\"1\" class=\"dataframe\">\n",
       "  <thead>\n",
       "    <tr style=\"text-align: right;\">\n",
       "      <th></th>\n",
       "      <th>No</th>\n",
       "      <th>Bruised broken wing (FP09)</th>\n",
       "      <th>Bruised broken leg (FP10)</th>\n",
       "      <th>Bruised back (FP16)</th>\n",
       "      <th>Bruised neck (FP22)</th>\n",
       "      <th>Bruised elbow (FP32)</th>\n",
       "    </tr>\n",
       "  </thead>\n",
       "  <tbody>\n",
       "    <tr>\n",
       "      <th>0</th>\n",
       "      <td>1</td>\n",
       "      <td>NaN</td>\n",
       "      <td>NaN</td>\n",
       "      <td>1.0</td>\n",
       "      <td>NaN</td>\n",
       "      <td>NaN</td>\n",
       "    </tr>\n",
       "    <tr>\n",
       "      <th>1</th>\n",
       "      <td>2</td>\n",
       "      <td>NaN</td>\n",
       "      <td>NaN</td>\n",
       "      <td>NaN</td>\n",
       "      <td>NaN</td>\n",
       "      <td>NaN</td>\n",
       "    </tr>\n",
       "    <tr>\n",
       "      <th>2</th>\n",
       "      <td>3</td>\n",
       "      <td>NaN</td>\n",
       "      <td>1.0</td>\n",
       "      <td>1.0</td>\n",
       "      <td>NaN</td>\n",
       "      <td>NaN</td>\n",
       "    </tr>\n",
       "    <tr>\n",
       "      <th>3</th>\n",
       "      <td>4</td>\n",
       "      <td>NaN</td>\n",
       "      <td>NaN</td>\n",
       "      <td>1.0</td>\n",
       "      <td>NaN</td>\n",
       "      <td>NaN</td>\n",
       "    </tr>\n",
       "    <tr>\n",
       "      <th>4</th>\n",
       "      <td>5</td>\n",
       "      <td>NaN</td>\n",
       "      <td>1.0</td>\n",
       "      <td>NaN</td>\n",
       "      <td>NaN</td>\n",
       "      <td>NaN</td>\n",
       "    </tr>\n",
       "  </tbody>\n",
       "</table>\n",
       "</div>"
      ],
      "text/plain": [
       "   No  Bruised broken wing (FP09)  Bruised broken leg (FP10)  \\\n",
       "0   1                         NaN                        NaN   \n",
       "1   2                         NaN                        NaN   \n",
       "2   3                         NaN                        1.0   \n",
       "3   4                         NaN                        NaN   \n",
       "4   5                         NaN                        1.0   \n",
       "\n",
       "   Bruised back (FP16)  Bruised neck (FP22)  Bruised elbow (FP32)  \n",
       "0                  1.0                  NaN                   NaN  \n",
       "1                  NaN                  NaN                   NaN  \n",
       "2                  1.0                  NaN                   NaN  \n",
       "3                  1.0                  NaN                   NaN  \n",
       "4                  NaN                  NaN                   NaN  "
      ]
     },
     "execution_count": 4,
     "metadata": {},
     "output_type": "execute_result"
    }
   ],
   "source": [
    "print(df_predict.shape)\n",
    "df_predict.head(5)"
   ]
  },
  {
   "cell_type": "code",
   "execution_count": 4,
   "metadata": {},
   "outputs": [],
   "source": [
    "def getTextToArray(df):\n",
    "\n",
    "    arr = []\n",
    "    for index, row in df.iterrows():\n",
    "        # print(row['No'])\n",
    "        if row['Bruised broken wing (FP09)'] == 1:\n",
    "            # print(row['Bruised broken wing (FP09)'])\n",
    "            arr.append('1')\n",
    "        else:\n",
    "            arr.append('0')\n",
    "\n",
    "        if row['Bruised broken leg (FP10)'] == 1:\n",
    "            # print(row['Bruised broken leg (FP10)'])\n",
    "            arr.append('2')\n",
    "        else:\n",
    "            arr.append('0')\n",
    "\n",
    "        if row['Bruised breast (FP11)'] == 1:\n",
    "            # print(row['Bruised breast (FP11)'])\n",
    "            arr.append('3')\n",
    "        else:\n",
    "            arr.append('0')\n",
    "\n",
    "        if row['Bruised back (FP16)'] == 1:\n",
    "            # print(row['Bruised back (FP16)'])\n",
    "            arr.append('4')\n",
    "        else:\n",
    "            arr.append('0')\n",
    "\n",
    "        if row['Bruised neck (FP22)'] == 1:\n",
    "            # print(row['Bruised neck (FP22)'])\n",
    "            arr.append('5')\n",
    "        else:\n",
    "            arr.append('0')\n",
    "\n",
    "        if row['Bruised elbow (FP32)'] == 1:\n",
    "            # print(row['Bruised elbow (FP32)'])\n",
    "            arr.append('6')\n",
    "        else:\n",
    "            arr.append('0')\n",
    "\n",
    "        if row['Whole duck'] == 1:\n",
    "            # print(row['Whole duck'])\n",
    "            arr.append('7')\n",
    "        else:\n",
    "            arr.append('0')\n",
    "            \n",
    "    return arr"
   ]
  },
  {
   "cell_type": "code",
   "execution_count": 5,
   "metadata": {},
   "outputs": [],
   "source": [
    "def getTextToArray2(df):\n",
    "\n",
    "    arr = []\n",
    "    for index, row in df.iterrows():\n",
    "        # print(row['No'])\n",
    "        if row['Bruised broken wing (FP09)'] == 1:\n",
    "            # print(row['Bruised broken wing (FP09)'])\n",
    "            arr.append('1')\n",
    "\n",
    "        if row['Bruised broken leg (FP10)'] == 1:\n",
    "            # print(row['Bruised broken leg (FP10)'])\n",
    "            arr.append('2')\n",
    "\n",
    "        if row['Bruised breast (FP11)'] == 1:\n",
    "            # print(row['Bruised breast (FP11)'])\n",
    "            arr.append('3')\n",
    "\n",
    "        if row['Bruised back (FP16)'] == 1:\n",
    "            # print(row['Bruised back (FP16)'])\n",
    "            arr.append('4')\n",
    "\n",
    "        if row['Bruised neck (FP22)'] == 1:\n",
    "            # print(row['Bruised neck (FP22)'])\n",
    "            arr.append('5')\n",
    "\n",
    "        if row['Bruised elbow (FP32)'] == 1:\n",
    "            # print(row['Bruised elbow (FP32)'])\n",
    "            arr.append('6')\n",
    "\n",
    "        if row['Whole duck'] == 1:\n",
    "            # print(row['Whole duck'])\n",
    "            arr.append('7')\n",
    "            \n",
    "    return arr"
   ]
  },
  {
   "cell_type": "code",
   "execution_count": 6,
   "metadata": {},
   "outputs": [],
   "source": [
    "def getTextToArray3(df):\n",
    "    \n",
    "    arr = []\n",
    "    for index, row in df.iterrows():\n",
    "        if float(row['Bruised broken wing (FP09)']) >= 1:\n",
    "            # print(row['Bruised broken wing (FP09)'])\n",
    "            for i in range(int(row['Bruised broken wing (FP09)'])):\n",
    "                arr.append('1')\n",
    "\n",
    "        if float(row['Bruised broken leg (FP10)']) >= 1:\n",
    "            # print(row['Bruised broken leg (FP10)'])\n",
    "            for i in range(int(row['Bruised broken leg (FP10)'])):\n",
    "                arr.append('2')\n",
    "\n",
    "        if float(row['Bruised breast (FP11)']) >= 1:\n",
    "            # print(row['Bruised breast (FP11)'])\n",
    "            for i in range(int(row['Bruised breast (FP11)'])):\n",
    "                arr.append('3')\n",
    "\n",
    "        if float(row['Bruised back (FP16)']) >= 1:\n",
    "            # print(row['Bruised back (FP16)'])\n",
    "            for i in range(int(row['Bruised back (FP16)'])):\n",
    "                arr.append('4')\n",
    "\n",
    "        if float(row['Bruised neck (FP22)']) >= 1:\n",
    "            # print(row['Bruised neck (FP22)'])\n",
    "            for i in range(int(row['Bruised neck (FP22)'])):\n",
    "                arr.append('5')\n",
    "\n",
    "        if float(row['Bruised elbow (FP32)']) >= 1:\n",
    "            # print(row['Bruised elbow (FP32)'])\n",
    "            for i in range(int(row['Bruised elbow (FP32)'])):\n",
    "                arr.append('6')\n",
    "\n",
    "        if float(row['Whole duck']) >= 1:\n",
    "            # print(row['Whole duck'])\n",
    "            for i in range(int(row['Whole duck'])):\n",
    "                arr.append('7')\n",
    "                \n",
    "    return arr"
   ]
  },
  {
   "cell_type": "code",
   "execution_count": 7,
   "metadata": {},
   "outputs": [],
   "source": [
    "def getTextToArray4(df):\n",
    "    \n",
    "    arr = []\n",
    "    for index, row in df.iterrows():\n",
    "        if float(row['Bruised broken wing (FP09)']) >= 1:\n",
    "            # print(row['Bruised broken wing (FP09)'])\n",
    "            arr.append('1')\n",
    "            # for i in range(int(row['Bruised broken wing (FP09)'])):\n",
    "            #     arr.append('1')\n",
    "        else:\n",
    "            arr.append('0')\n",
    "\n",
    "        if float(row['Bruised broken leg (FP10)']) >= 1:\n",
    "            # print(row['Bruised broken leg (FP10)'])\n",
    "            arr.append('2')\n",
    "            # for i in range(int(row['Bruised broken leg (FP10)'])):\n",
    "            #     arr.append('2')\n",
    "        else:\n",
    "            arr.append('0')\n",
    "\n",
    "        if float(row['Bruised breast (FP11)']) >= 1:\n",
    "            # print(row['Bruised breast (FP11)'])\n",
    "            arr.append('3')\n",
    "            # for i in range(int(row['Bruised breast (FP11)'])):\n",
    "            #     arr.append('3')\n",
    "        else:\n",
    "            arr.append('0')\n",
    "\n",
    "        if float(row['Bruised back (FP16)']) >= 1:\n",
    "            # print(row['Bruised back (FP16)'])\n",
    "            arr.append('4')\n",
    "            # for i in range(int(row['Bruised back (FP16)'])):\n",
    "            #     arr.append('4')\n",
    "        else:\n",
    "            arr.append('0')\n",
    "\n",
    "        if float(row['Bruised neck (FP22)']) >= 1:\n",
    "            # print(row['Bruised neck (FP22)'])\n",
    "            arr.append('5')\n",
    "            # for i in range(int(row['Bruised neck (FP22)'])):\n",
    "            #     arr.append('5')\n",
    "        else:\n",
    "            arr.append('0')\n",
    "\n",
    "        if float(row['Bruised elbow (FP32)']) >= 1:\n",
    "            # print(row['Bruised elbow (FP32)'])\n",
    "            arr.append('6')\n",
    "            # for i in range(int(row['Bruised elbow (FP32)'])):\n",
    "            #     arr.append('6')\n",
    "        else:\n",
    "            arr.append('0')\n",
    "\n",
    "        if float(row['Whole duck']) >= 1:\n",
    "            # print(row['Whole duck'])\n",
    "            arr.append('7')\n",
    "            # for i in range(int(row['Whole duck'])):\n",
    "            #     arr.append('7')\n",
    "        else:\n",
    "            arr.append('0')\n",
    "                \n",
    "    return arr"
   ]
  },
  {
   "cell_type": "code",
   "execution_count": 18,
   "metadata": {},
   "outputs": [],
   "source": [
    "def getTextToArray5(df_actual, df_predict):\n",
    "    \n",
    "    arr1 = []\n",
    "    arr2 = []\n",
    "    if len(df_actual) == len(df_predict):\n",
    "        for i in range(len(df_actual)):\n",
    "\n",
    "            if df_actual[\"Bruised broken wing (FP09)\"][i] == df_predict[\"Bruised broken wing (FP09)\"][i]:\n",
    "                # print(\"true\")\n",
    "                arr1.append('Bruised broken wing (FP09)')\n",
    "                arr2.append('Bruised broken wing (FP09)')\n",
    "\n",
    "            elif df_actual[\"Bruised broken wing (FP09)\"][i] != 1 and df_predict[\"Bruised broken wing (FP09)\"][i] != 1:\n",
    "                # print(\"true\")\n",
    "                arr1.append('No Bruise')\n",
    "                arr2.append('No Bruise')\n",
    "\n",
    "            elif df_actual[\"Bruised broken wing (FP09)\"][i] == 1:\n",
    "                arr1.append('Bruised broken wing (FP09)')\n",
    "                arr2.append('No Bruise')\n",
    "\n",
    "            elif df_predict[\"Bruised broken wing (FP09)\"][i] == 1:\n",
    "                arr1.append('No Bruise')\n",
    "                arr2.append('Bruised broken wing (FP09)')\n",
    "\n",
    "            #############################################################   \n",
    "\n",
    "            if df_actual[\"Bruised broken leg (FP10)\"][i] == df_predict[\"Bruised broken leg (FP10)\"][i]:\n",
    "                # print(\"true\")\n",
    "                arr1.append('Bruised broken leg (FP10)')\n",
    "                arr2.append('Bruised broken leg (FP10)')\n",
    "\n",
    "            elif df_actual[\"Bruised broken leg (FP10)\"][i] != 1 and df_predict[\"Bruised broken leg (FP10)\"][i] != 1:\n",
    "                # print(\"true\")\n",
    "                arr1.append('No Bruise')\n",
    "                arr2.append('No Bruise')\n",
    "\n",
    "            elif df_actual[\"Bruised broken leg (FP10)\"][i] == 1:\n",
    "                arr1.append('Bruised broken leg (FP10)')\n",
    "                arr2.append('No Bruise')\n",
    "\n",
    "            elif df_predict[\"Bruised broken leg (FP10)\"][i] == 1:\n",
    "                arr1.append('No Bruise')\n",
    "                arr2.append('Bruised broken leg (FP10)')\n",
    "\n",
    "            #############################################################\n",
    "\n",
    "            # if df_actual[\"Bruised breast (FP11)\"][i] == df_predict[\"Bruised breast (FP11)\"][i]:\n",
    "            #     # print(\"true\")\n",
    "            #     arr1.append('Bruised breast (FP11)')\n",
    "            #     arr2.append('Bruised breast (FP11)')\n",
    "\n",
    "            # elif df_actual[\"Bruised breast (FP11)\"][i] != 1 and df_predict[\"Bruised breast (FP11)\"][i] != 1:\n",
    "            #     # print(\"true\")\n",
    "            #     arr1.append('No Bruise')\n",
    "            #     arr2.append('No Bruise')\n",
    "\n",
    "            # elif df_actual[\"Bruised breast (FP11)\"][i] == 1:\n",
    "            #     arr1.append('Bruised breast (FP11)')\n",
    "            #     arr2.append('No Bruise')\n",
    "\n",
    "            # elif df_predict[\"Bruised breast (FP11)\"][i] == 1:\n",
    "            #     arr1.append('No Bruise')\n",
    "            #     arr2.append('Bruised breast (FP11)')\n",
    "\n",
    "            #############################################################\n",
    "\n",
    "            if df_actual[\"Bruised back (FP16)\"][i] == df_predict[\"Bruised back (FP16)\"][i]:\n",
    "                # print(\"true\")\n",
    "                arr1.append('Bruised back (FP16)')\n",
    "                arr2.append('Bruised back (FP16)')\n",
    "\n",
    "            elif df_actual[\"Bruised back (FP16)\"][i] != 1 and df_predict[\"Bruised back (FP16)\"][i] != 1:\n",
    "                # print(\"true\")\n",
    "                arr1.append('No Bruise')\n",
    "                arr2.append('No Bruise')\n",
    "\n",
    "            elif df_actual[\"Bruised back (FP16)\"][i] == 1:\n",
    "                arr1.append('Bruised back (FP16)')\n",
    "                arr2.append('No Bruise')\n",
    "\n",
    "            elif df_predict[\"Bruised back (FP16)\"][i] == 1:\n",
    "                arr1.append('No Bruise')\n",
    "                arr2.append('Bruised back (FP16)')\n",
    "\n",
    "            #############################################################\n",
    "\n",
    "            if df_actual[\"Bruised neck (FP22)\"][i] == df_predict[\"Bruised neck (FP22)\"][i]:\n",
    "                # print(\"true\")\n",
    "                arr1.append('Bruised neck (FP22)')\n",
    "                arr2.append('Bruised neck (FP22)')\n",
    "\n",
    "            elif df_actual[\"Bruised neck (FP22)\"][i] != 1 and df_predict[\"Bruised neck (FP22)\"][i] != 1:\n",
    "                # print(\"true\")\n",
    "                arr1.append('No Bruise')\n",
    "                arr2.append('No Bruise')\n",
    "\n",
    "            elif df_actual[\"Bruised neck (FP22)\"][i] == 1:\n",
    "                arr1.append('Bruised neck (FP22)')\n",
    "                arr2.append('No Bruise')\n",
    "\n",
    "            elif df_predict[\"Bruised neck (FP22)\"][i] == 1:\n",
    "                arr1.append('No Bruise')\n",
    "                arr2.append('Bruised neck (FP22)')\n",
    "\n",
    "            #############################################################\n",
    "\n",
    "            if df_actual[\"Bruised elbow (FP32)\"][i] == df_predict[\"Bruised elbow (FP32)\"][i]:\n",
    "                # print(\"true\")\n",
    "                arr1.append('Bruised elbow (FP32)')\n",
    "                arr2.append('Bruised elbow (FP32)')\n",
    "\n",
    "            elif df_actual[\"Bruised elbow (FP32)\"][i] != 1 and df_predict[\"Bruised elbow (FP32)\"][i] != 1:\n",
    "                # print(\"true\")\n",
    "                arr1.append('No Bruise')\n",
    "                arr2.append('No Bruise')\n",
    "\n",
    "            elif df_actual[\"Bruised elbow (FP32)\"][i] == 1:\n",
    "                arr1.append('Bruised elbow (FP32)')\n",
    "                arr2.append('No Bruise')\n",
    "\n",
    "            elif df_predict[\"Bruised elbow (FP32)\"][i] == 1:\n",
    "                arr1.append('No Bruise')\n",
    "                arr2.append('Bruised elbow (FP32)')\n",
    "\n",
    "\n",
    "            #############################################################\n",
    "\n",
    "            # if df_actual[\"Whole duck\"][i] == df_predict[\"Whole duck\"][i]:\n",
    "            #     # print(\"true\")\n",
    "            #     arr1.append('Whole duck')\n",
    "            #     arr2.append('Whole duck')\n",
    "\n",
    "            # elif df_actual[\"Whole duck\"][i] == 1:\n",
    "            #     arr1.append('Whole duck')\n",
    "            #     arr2.append('')\n",
    "\n",
    "            # elif df_predict[\"Whole duck\"][i] == 1:\n",
    "            #     arr1.append('')\n",
    "            #     arr2.append('Whole duck')\n",
    "\n",
    "\n",
    "    else:\n",
    "        print(\"len array not match\")\n",
    "\n",
    "    # print(len(arr1), len(arr2))\n",
    "    # print(arr1)\n",
    "    # print(arr2)\n",
    "\n",
    "    return arr1, arr2"
   ]
  },
  {
   "cell_type": "code",
   "execution_count": 7,
   "metadata": {},
   "outputs": [],
   "source": [
    "def getTextToArray6(df_actual, df_predict):\n",
    "    \n",
    "    arr1 = []\n",
    "    arr2 = []\n",
    "    count = 0\n",
    "    if len(df_actual) == len(df_predict):\n",
    "        for i in range(len(df_actual)):\n",
    "\n",
    "            if df_actual[\"Bruised broken wing (FP09)\"][i] != 1 and df_actual[\"Bruised broken leg (FP10)\"][i] != 1 and df_actual[\"Bruised back (FP16)\"][i] != 1 \\\n",
    "                and df_actual[\"Bruised neck (FP22)\"][i] != 1 and df_predict[\"Bruised elbow (FP32)\"][i] != 1:\n",
    "                count += 1\n",
    "                # print(i + 1)\n",
    "                continue\n",
    "\n",
    "            else:\n",
    "                if df_actual[\"Bruised broken wing (FP09)\"][i] == df_predict[\"Bruised broken wing (FP09)\"][i]:\n",
    "                    # print(\"true\")\n",
    "                    arr1.append('Bruised broken wing (FP09)')\n",
    "                    arr2.append('Bruised broken wing (FP09)')\n",
    "\n",
    "                elif df_actual[\"Bruised broken wing (FP09)\"][i] != 1 and df_predict[\"Bruised broken wing (FP09)\"][i] != 1:\n",
    "                    # print(\"true\")\n",
    "                    arr1.append('No Bruise')\n",
    "                    arr2.append('No Bruise')\n",
    "\n",
    "                elif df_actual[\"Bruised broken wing (FP09)\"][i] == 1:\n",
    "                    arr1.append('Bruised broken wing (FP09)')\n",
    "                    arr2.append('No Bruise')\n",
    "\n",
    "                elif df_predict[\"Bruised broken wing (FP09)\"][i] == 1:\n",
    "                    arr1.append('No Bruise')\n",
    "                    arr2.append('Bruised broken wing (FP09)')\n",
    "\n",
    "                #############################################################   \n",
    "\n",
    "                if df_actual[\"Bruised broken leg (FP10)\"][i] == df_predict[\"Bruised broken leg (FP10)\"][i]:\n",
    "                    # print(\"true\")\n",
    "                    arr1.append('Bruised broken leg (FP10)')\n",
    "                    arr2.append('Bruised broken leg (FP10)')\n",
    "\n",
    "                elif df_actual[\"Bruised broken leg (FP10)\"][i] != 1 and df_predict[\"Bruised broken leg (FP10)\"][i] != 1:\n",
    "                    # print(\"true\")\n",
    "                    arr1.append('No Bruise')\n",
    "                    arr2.append('No Bruise')\n",
    "\n",
    "                elif df_actual[\"Bruised broken leg (FP10)\"][i] == 1:\n",
    "                    arr1.append('Bruised broken leg (FP10)')\n",
    "                    arr2.append('No Bruise')\n",
    "\n",
    "                elif df_predict[\"Bruised broken leg (FP10)\"][i] == 1:\n",
    "                    arr1.append('No Bruise')\n",
    "                    arr2.append('Bruised broken leg (FP10)')\n",
    "\n",
    "                #############################################################\n",
    "\n",
    "                # if df_actual[\"Bruised breast (FP11)\"][i] == df_predict[\"Bruised breast (FP11)\"][i]:\n",
    "                #     # print(\"true\")\n",
    "                #     arr1.append('Bruised breast (FP11)')\n",
    "                #     arr2.append('Bruised breast (FP11)')\n",
    "\n",
    "                # elif df_actual[\"Bruised breast (FP11)\"][i] != 1 and df_predict[\"Bruised breast (FP11)\"][i] != 1:\n",
    "                #     # print(\"true\")\n",
    "                #     arr1.append('No Bruise')\n",
    "                #     arr2.append('No Bruise')\n",
    "\n",
    "                # elif df_actual[\"Bruised breast (FP11)\"][i] == 1:\n",
    "                #     arr1.append('Bruised breast (FP11)')\n",
    "                #     arr2.append('No Bruise')\n",
    "\n",
    "                # elif df_predict[\"Bruised breast (FP11)\"][i] == 1:\n",
    "                #     arr1.append('No Bruise')\n",
    "                #     arr2.append('Bruised breast (FP11)')\n",
    "\n",
    "                #############################################################\n",
    "\n",
    "                if df_actual[\"Bruised back (FP16)\"][i] == df_predict[\"Bruised back (FP16)\"][i]:\n",
    "                    # print(\"true\")\n",
    "                    arr1.append('Bruised back (FP16)')\n",
    "                    arr2.append('Bruised back (FP16)')\n",
    "\n",
    "                elif df_actual[\"Bruised back (FP16)\"][i] != 1 and df_predict[\"Bruised back (FP16)\"][i] != 1:\n",
    "                    # print(\"true\")\n",
    "                    arr1.append('No Bruise')\n",
    "                    arr2.append('No Bruise')\n",
    "\n",
    "                elif df_actual[\"Bruised back (FP16)\"][i] == 1:\n",
    "                    arr1.append('Bruised back (FP16)')\n",
    "                    arr2.append('No Bruise')\n",
    "\n",
    "                elif df_predict[\"Bruised back (FP16)\"][i] == 1:\n",
    "                    arr1.append('No Bruise')\n",
    "                    arr2.append('Bruised back (FP16)')\n",
    "\n",
    "                #############################################################\n",
    "\n",
    "                if df_actual[\"Bruised neck (FP22)\"][i] == df_predict[\"Bruised neck (FP22)\"][i]:\n",
    "                    # print(\"true\")\n",
    "                    arr1.append('Bruised neck (FP22)')\n",
    "                    arr2.append('Bruised neck (FP22)')\n",
    "\n",
    "                elif df_actual[\"Bruised neck (FP22)\"][i] != 1 and df_predict[\"Bruised neck (FP22)\"][i] != 1:\n",
    "                    # print(\"true\")\n",
    "                    arr1.append('No Bruise')\n",
    "                    arr2.append('No Bruise')\n",
    "\n",
    "                elif df_actual[\"Bruised neck (FP22)\"][i] == 1:\n",
    "                    arr1.append('Bruised neck (FP22)')\n",
    "                    arr2.append('No Bruise')\n",
    "\n",
    "                elif df_predict[\"Bruised neck (FP22)\"][i] == 1:\n",
    "                    arr1.append('No Bruise')\n",
    "                    arr2.append('Bruised neck (FP22)')\n",
    "\n",
    "                #############################################################\n",
    "\n",
    "                if df_actual[\"Bruised elbow (FP32)\"][i] == df_predict[\"Bruised elbow (FP32)\"][i]:\n",
    "                    # print(\"true\")\n",
    "                    arr1.append('Bruised elbow (FP32)')\n",
    "                    arr2.append('Bruised elbow (FP32)')\n",
    "\n",
    "                elif df_actual[\"Bruised elbow (FP32)\"][i] != 1 and df_predict[\"Bruised elbow (FP32)\"][i] != 1:\n",
    "                    # print(\"true\")\n",
    "                    arr1.append('No Bruise')\n",
    "                    arr2.append('No Bruise')\n",
    "\n",
    "                elif df_actual[\"Bruised elbow (FP32)\"][i] == 1:\n",
    "                    arr1.append('Bruised elbow (FP32)')\n",
    "                    arr2.append('No Bruise')\n",
    "\n",
    "                elif df_predict[\"Bruised elbow (FP32)\"][i] == 1:\n",
    "                    arr1.append('No Bruise')\n",
    "                    arr2.append('Bruised elbow (FP32)')\n",
    "\n",
    "\n",
    "\n",
    "    else:\n",
    "        print(\"len array not match\")\n",
    "\n",
    "    # print(len(arr1), len(arr2))\n",
    "    # print(arr1)\n",
    "    # print(arr2)\n",
    "\n",
    "    return arr1, arr2"
   ]
  },
  {
   "cell_type": "code",
   "execution_count": 8,
   "metadata": {},
   "outputs": [
    {
     "name": "stdout",
     "output_type": "stream",
     "text": [
      "(100, 6)\n",
      "(100, 6)\n"
     ]
    }
   ],
   "source": [
    "print(np.array(df_actual).shape)\n",
    "print(np.array(df_predict).shape)"
   ]
  },
  {
   "cell_type": "code",
   "execution_count": 10,
   "metadata": {},
   "outputs": [
    {
     "name": "stdout",
     "output_type": "stream",
     "text": [
      "(245,)\n",
      "(245,)\n"
     ]
    }
   ],
   "source": [
    "# arr_actual, arr_predict = getTextToArray5(df_actual, df_predict)\n",
    "arr_actual, arr_predict = getTextToArray6(df_actual, df_predict)\n",
    "print(np.array(arr_actual).shape)\n",
    "print(np.array(arr_predict).shape)"
   ]
  },
  {
   "cell_type": "code",
   "execution_count": 11,
   "metadata": {},
   "outputs": [
    {
     "ename": "ValueError",
     "evalue": "cannot reshape array of size 245 into shape (100,7)",
     "output_type": "error",
     "traceback": [
      "\u001b[1;31m---------------------------------------------------------------------------\u001b[0m",
      "\u001b[1;31mValueError\u001b[0m                                Traceback (most recent call last)",
      "\u001b[1;32md:\\files\\tf2_bruiseduck_detection\\confusion_matrix.ipynb Cell 6'\u001b[0m in \u001b[0;36m<cell line: 1>\u001b[1;34m()\u001b[0m\n\u001b[1;32m----> <a href='vscode-notebook-cell:/d%3A/files/tf2_bruiseduck_detection/confusion_matrix.ipynb#ch0000005?line=0'>1</a>\u001b[0m \u001b[39mprint\u001b[39m(np\u001b[39m.\u001b[39;49marray(arr_actual)\u001b[39m.\u001b[39;49mreshape(\u001b[39m100\u001b[39;49m, \u001b[39m7\u001b[39;49m))\n\u001b[0;32m      <a href='vscode-notebook-cell:/d%3A/files/tf2_bruiseduck_detection/confusion_matrix.ipynb#ch0000005?line=1'>2</a>\u001b[0m \u001b[39mprint\u001b[39m(np\u001b[39m.\u001b[39marray(arr_actual))\n\u001b[0;32m      <a href='vscode-notebook-cell:/d%3A/files/tf2_bruiseduck_detection/confusion_matrix.ipynb#ch0000005?line=2'>3</a>\u001b[0m \u001b[39mprint\u001b[39m(np\u001b[39m.\u001b[39marray(arr_predict))\n",
      "\u001b[1;31mValueError\u001b[0m: cannot reshape array of size 245 into shape (100,7)"
     ]
    }
   ],
   "source": [
    "print(np.array(arr_actual).reshape(100, 7))\n",
    "print(np.array(arr_actual))\n",
    "print(np.array(arr_predict))"
   ]
  },
  {
   "cell_type": "code",
   "execution_count": 15,
   "metadata": {},
   "outputs": [
    {
     "data": {
      "text/plain": [
       "array([[  4,   0,   0,   0,   0,   7],\n",
       "       [  0,  20,   0,   0,   0,   3],\n",
       "       [  0,   0,  22,   0,   0,   4],\n",
       "       [  0,   0,   0,   1,   0,   1],\n",
       "       [  0,   0,   0,   0,   8,   3],\n",
       "       [  0,   2,   5,   0,   2, 163]], dtype=int64)"
      ]
     },
     "execution_count": 15,
     "metadata": {},
     "output_type": "execute_result"
    }
   ],
   "source": [
    "cm_bruiseduck = confusion_matrix(arr_actual, arr_predict\n",
    "# ,normalize=\"true\"\n",
    "# ,labels=['Bruised broken wing (FP09)','Bruised broken leg (FP10)','Bruised breast (FP11)','Bruised back (FP16)','Bruised neck (FP22)','Bruised elbow (FP32)','No Bruise']\n",
    ",labels=['Bruised broken wing (FP09)','Bruised broken leg (FP10)','Bruised back (FP16)','Bruised neck (FP22)','Bruised elbow (FP32)','No Bruise']\n",
    ")\n",
    "\n",
    "cm_bruiseduck"
   ]
  },
  {
   "cell_type": "code",
   "execution_count": 16,
   "metadata": {},
   "outputs": [],
   "source": [
    "# Creating a dataframe for a array-formatted Confusion matrix,so it will be easy for plotting.\n",
    "cm_df_bruiseduck = pd.DataFrame(cm_bruiseduck,\n",
    "                    #  index = ['Bruised broken wing (FP09)','Bruised broken leg (FP10)','Bruised breast (FP11)','Bruised back (FP16)','Bruised neck (FP22)','Bruised elbow (FP32)','No Bruise'], \n",
    "                    #  columns = ['Bruised broken wing (FP09)','Bruised broken leg (FP10)','Bruised breast (FP11)','Bruised back (FP16)','Bruised neck (FP22)','Bruised elbow (FP32)','No Bruise']\n",
    "                     index = ['Bruised broken wing (FP09)','Bruised broken leg (FP10)','Bruised back (FP16)','Bruised neck (FP22)','Bruised elbow (FP32)','No Bruise'], \n",
    "                     columns = ['Bruised broken wing (FP09)','Bruised broken leg (FP10)','Bruised back (FP16)','Bruised neck (FP22)','Bruised elbow (FP32)','No Bruise'])"
   ]
  },
  {
   "cell_type": "code",
   "execution_count": 17,
   "metadata": {},
   "outputs": [
    {
     "data": {
      "image/png": "[encoded data removed]",
      "text/plain": [
       "<Figure size 432x360 with 2 Axes>"
      ]
     },
     "metadata": {
      "needs_background": "light"
     },
     "output_type": "display_data"
    }
   ],
   "source": [
    "#Plotting the confusion matrix\n",
    "plt.figure(figsize=(6,5))\n",
    "sns.heatmap(cm_df_bruiseduck, annot=True, fmt='g')\n",
    "plt.title('Confusion Matrix')\n",
    "plt.ylabel('Actal Values')\n",
    "plt.xlabel('Predicted Values')\n",
    "plt.show()"
   ]
  },
  {
   "cell_type": "code",
   "execution_count": 18,
   "metadata": {},
   "outputs": [
    {
     "name": "stdout",
     "output_type": "stream",
     "text": [
      "                            precision    recall  f1-score   support\n",
      "\n",
      "       Bruised back (FP16)       0.81      0.85      0.83        26\n",
      " Bruised broken leg (FP10)       0.91      0.87      0.89        23\n",
      "Bruised broken wing (FP09)       1.00      0.36      0.53        11\n",
      "      Bruised elbow (FP32)       0.80      0.73      0.76        11\n",
      "       Bruised neck (FP22)       1.00      0.50      0.67         2\n",
      "                 No Bruise       0.90      0.95      0.92       172\n",
      "\n",
      "                  accuracy                           0.89       245\n",
      "                 macro avg       0.90      0.71      0.77       245\n",
      "              weighted avg       0.89      0.89      0.88       245\n",
      "\n"
     ]
    }
   ],
   "source": [
    "# print(classification_report(fit_actual, fit_predict))\n",
    "print(classification_report(arr_actual, arr_predict))"
   ]
  },
  {
   "cell_type": "code",
   "execution_count": null,
   "metadata": {},
   "outputs": [],
   "source": []
  },
  {
   "cell_type": "code",
   "execution_count": null,
   "metadata": {},
   "outputs": [],
   "source": [
    "from sklearn.metrics import classification_report\n",
    "from sklearn.preprocessing import LabelBinarizer"
   ]
  },
  {
   "cell_type": "code",
   "execution_count": null,
   "metadata": {},
   "outputs": [],
   "source": [
    "fit_actual = LabelBinarizer().fit_transform(arr_actual)\n",
    "fit_predict = LabelBinarizer().fit_transform(arr_predict)\n",
    "fit_actual = fit_actual.argmax(axis=1)\n",
    "fit_predict = fit_predict.argmax(axis=1)\n"
   ]
  },
  {
   "cell_type": "code",
   "execution_count": null,
   "metadata": {},
   "outputs": [],
   "source": [
    "# print(classification_report(fit_actual, fit_predict))\n",
    "print(classification_report(arr_actual, arr_predict))"
   ]
  },
  {
   "cell_type": "code",
   "execution_count": null,
   "metadata": {},
   "outputs": [],
   "source": []
  }
 ],
 "metadata": {
  "interpreter": {
   "hash": "6a5a2295edbcbee39f6c153b67760358eab2dbece2c7b57a2a7e9b272c27a3dd"
  },
  "kernelspec": {
   "display_name": "Python 3.10.4 ('tf2')",
   "language": "python",
   "name": "python3"
  },
  "language_info": {
   "codemirror_mode": {
    "name": "ipython",
    "version": 3
   },
   "file_extension": ".py",
   "mimetype": "text/x-python",
   "name": "python",
   "nbconvert_exporter": "python",
   "pygments_lexer": "ipython3",
   "version": "3.10.4"
  },
  "orig_nbformat": 4
 },
 "nbformat": 4,
 "nbformat_minor": 2
}
